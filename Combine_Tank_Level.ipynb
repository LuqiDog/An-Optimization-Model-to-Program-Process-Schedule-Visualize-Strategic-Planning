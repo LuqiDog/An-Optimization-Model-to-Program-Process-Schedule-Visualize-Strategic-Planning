{
 "cells": [
  {
   "cell_type": "code",
   "execution_count": null,
   "metadata": {},
   "outputs": [],
   "source": [
    "for i in range(len(TankList)):\n",
    "        Filename  = \"Tank \" + str(TankList[i]) + \".csv\"\n",
    "        #inputpath = \".../RawData/\" + Filename\n",
    "        inputpath = inpath + Filename\n",
    "        data = pd.read_csv(inputpath, header = None)\n",
    "        \n",
    "            level = data[[\"LevelTime\", \"Tank Level\"]]\n",
    "            \n",
    "            \n",
    "            level = level.dropna()\n",
    "            "
   ]
  },
  {
   "cell_type": "code",
   "execution_count": 11,
   "metadata": {},
   "outputs": [],
   "source": [
    "import pandas as pd\n",
    "data = pd.read_csv(\".../Tank 4901.csv\")\n",
    "level = data[[\"LevelTime\", \"Tank Level\"]]                       \n",
    "level = level.dropna()\n",
    "#level=level.set_index(['LevelTime'])\n",
    "#level.index=pd.to_datetime(level.index)"
   ]
  },
  {
   "cell_type": "code",
   "execution_count": 12,
   "metadata": {},
   "outputs": [
    {
     "data": {
      "text/html": [
       "<div>\n",
       "<style scoped>\n",
       "    .dataframe tbody tr th:only-of-type {\n",
       "        vertical-align: middle;\n",
       "    }\n",
       "\n",
       "    .dataframe tbody tr th {\n",
       "        vertical-align: top;\n",
       "    }\n",
       "\n",
       "    .dataframe thead th {\n",
       "        text-align: right;\n",
       "    }\n",
       "</style>\n",
       "<table border=\"1\" class=\"dataframe\">\n",
       "  <thead>\n",
       "    <tr style=\"text-align: right;\">\n",
       "      <th></th>\n",
       "      <th>LevelTime</th>\n",
       "      <th>Tank Level</th>\n",
       "    </tr>\n",
       "  </thead>\n",
       "  <tbody>\n",
       "    <tr>\n",
       "      <td>0</td>\n",
       "      <td>43101.00</td>\n",
       "      <td>0.742941</td>\n",
       "    </tr>\n",
       "    <tr>\n",
       "      <td>1</td>\n",
       "      <td>43101.04</td>\n",
       "      <td>0.742941</td>\n",
       "    </tr>\n",
       "    <tr>\n",
       "      <td>2</td>\n",
       "      <td>43101.08</td>\n",
       "      <td>0.742941</td>\n",
       "    </tr>\n",
       "    <tr>\n",
       "      <td>3</td>\n",
       "      <td>43101.13</td>\n",
       "      <td>0.742941</td>\n",
       "    </tr>\n",
       "    <tr>\n",
       "      <td>4</td>\n",
       "      <td>43101.17</td>\n",
       "      <td>0.742941</td>\n",
       "    </tr>\n",
       "    <tr>\n",
       "      <td>...</td>\n",
       "      <td>...</td>\n",
       "      <td>...</td>\n",
       "    </tr>\n",
       "    <tr>\n",
       "      <td>8732</td>\n",
       "      <td>43464.83</td>\n",
       "      <td>0.697641</td>\n",
       "    </tr>\n",
       "    <tr>\n",
       "      <td>8733</td>\n",
       "      <td>43464.88</td>\n",
       "      <td>0.697641</td>\n",
       "    </tr>\n",
       "    <tr>\n",
       "      <td>8734</td>\n",
       "      <td>43464.92</td>\n",
       "      <td>0.697641</td>\n",
       "    </tr>\n",
       "    <tr>\n",
       "      <td>8735</td>\n",
       "      <td>43464.96</td>\n",
       "      <td>0.697641</td>\n",
       "    </tr>\n",
       "    <tr>\n",
       "      <td>8736</td>\n",
       "      <td>43465.00</td>\n",
       "      <td>0.697641</td>\n",
       "    </tr>\n",
       "  </tbody>\n",
       "</table>\n",
       "<p>8737 rows × 2 columns</p>\n",
       "</div>"
      ],
      "text/plain": [
       "      LevelTime  Tank Level\n",
       "0      43101.00    0.742941\n",
       "1      43101.04    0.742941\n",
       "2      43101.08    0.742941\n",
       "3      43101.13    0.742941\n",
       "4      43101.17    0.742941\n",
       "...         ...         ...\n",
       "8732   43464.83    0.697641\n",
       "8733   43464.88    0.697641\n",
       "8734   43464.92    0.697641\n",
       "8735   43464.96    0.697641\n",
       "8736   43465.00    0.697641\n",
       "\n",
       "[8737 rows x 2 columns]"
      ]
     },
     "execution_count": 12,
     "metadata": {},
     "output_type": "execute_result"
    }
   ],
   "source": [
    "level"
   ]
  },
  {
   "cell_type": "code",
   "execution_count": 22,
   "metadata": {},
   "outputs": [
    {
     "data": {
      "text/plain": [
       "118"
      ]
     },
     "execution_count": 22,
     "metadata": {},
     "output_type": "execute_result"
    }
   ],
   "source": [
    "int(43101.00/365)"
   ]
  },
  {
   "cell_type": "code",
   "execution_count": 28,
   "metadata": {},
   "outputs": [
    {
     "data": {
      "text/plain": [
       "2"
      ]
     },
     "execution_count": 28,
     "metadata": {},
     "output_type": "execute_result"
    }
   ],
   "source": [
    "int(43101.00/365%1*24)"
   ]
  },
  {
   "cell_type": "code",
   "execution_count": 29,
   "metadata": {},
   "outputs": [
    {
     "data": {
      "text/plain": [
       "2"
      ]
     },
     "execution_count": 29,
     "metadata": {},
     "output_type": "execute_result"
    }
   ],
   "source": [
    "int(43101.00/365%1*24%1*60)"
   ]
  },
  {
   "cell_type": "code",
   "execution_count": 31,
   "metadata": {},
   "outputs": [],
   "source": [
    "from datetime import date\n",
    "d0 = date(1900, 1, 1)\n"
   ]
  },
  {
   "cell_type": "code",
   "execution_count": null,
   "metadata": {},
   "outputs": [],
   "source": []
  }
 ],
 "metadata": {
  "kernelspec": {
   "display_name": "Python 3",
   "language": "python",
   "name": "python3"
  },
  "language_info": {
   "codemirror_mode": {
    "name": "ipython",
    "version": 3
   },
   "file_extension": ".py",
   "mimetype": "text/x-python",
   "name": "python",
   "nbconvert_exporter": "python",
   "pygments_lexer": "ipython3",
   "version": "3.7.3"
  }
 },
 "nbformat": 4,
 "nbformat_minor": 2
}
