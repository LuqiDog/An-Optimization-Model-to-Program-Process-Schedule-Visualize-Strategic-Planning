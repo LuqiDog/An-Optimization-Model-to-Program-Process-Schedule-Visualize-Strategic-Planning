{
 "cells": [
  {
   "cell_type": "code",
   "execution_count": 3,
   "metadata": {},
   "outputs": [],
   "source": [
    "import pandas as pd\n",
    "def read_report(directory):\n",
    "    df = pd.read_csv(directory)\n",
    "    df = df[['Tank No', 'Agitator Running Time', 'Tank Level Running Time', 'JacketPump Running Time', 'SamplePump Running Time', 'CondenserPump Running Time']]\n",
    "    return df\n",
    "def avg_batch_run_time(df):\n",
    "    batchsize = float(input('Enter the total batch number: '))\n",
    "    df['Agitator Running Time'][df['Agitator Running Time'] == 'Tag not found'] = '0'\n",
    "    df['Tank Level Running Time'][df['Tank Level Running Time'] == 'Tag not found'] = '0'\n",
    "    df['JacketPump Running Time'][df['JacketPump Running Time'] == 'Tag not found'] = '0'\n",
    "    df['SamplePump Running Time'][df['SamplePump Running Time'] == 'Tag not found'] = '0'\n",
    "    df['CondenserPump Running Time'][df['CondenserPump Running Time'] == 'Tag not found'] = '0'\n",
    "    # running time divide by batch size\n",
    "    df['Agitator Running Time']= df['Agitator Running Time'].apply(lambda x: float(x)/batchsize if float(x) > 0 else 0)\n",
    "    df['Tank Level Running Time']= df['Tank Level Running Time'].apply(lambda x: float(x)/batchsize if float(x) > 0 else 0)\n",
    "    df['JacketPump Running Time']= df['JacketPump Running Time'].apply(lambda x: float(x)/batchsize if float(x) > 0 else 0)\n",
    "    df['SamplePump Running Time']= df['SamplePump Running Time'].apply(lambda x: float(x)/batchsize if float(x) > 0 else 0)\n",
    "    df['CondenserPump Running Time']= df['CondenserPump Running Time'].apply(lambda x: float(x)/batchsize if float(x) > 0 else 0)\n",
    "    \n",
    "    return df\n",
    "\n",
    "def outputfile(directory, df):\n",
    "    df.to_csv(directory+'avg_batch_runtime.csv')"
   ]
  },
  {
   "cell_type": "code",
   "execution_count": null,
   "metadata": {},
   "outputs": [],
   "source": []
  }
 ],
 "metadata": {
  "kernelspec": {
   "display_name": "Python 3",
   "language": "python",
   "name": "python3"
  },
  "language_info": {
   "codemirror_mode": {
    "name": "ipython",
    "version": 3
   },
   "file_extension": ".py",
   "mimetype": "text/x-python",
   "name": "python",
   "nbconvert_exporter": "python",
   "pygments_lexer": "ipython3",
   "version": "3.7.4"
  }
 },
 "nbformat": 4,
 "nbformat_minor": 2
}
